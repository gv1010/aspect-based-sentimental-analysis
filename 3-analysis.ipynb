{
 "cells": [
  {
   "cell_type": "code",
   "execution_count": 3,
   "metadata": {},
   "outputs": [],
   "source": [
    "import json\n",
    "import pandas as pd\n",
    "import matplotlib.pyplot as plt"
   ]
  },
  {
   "cell_type": "code",
   "execution_count": 5,
   "metadata": {},
   "outputs": [],
   "source": [
    "data = json.load(open(\"ABSA_prediction_data_local.json\", \"r\"))\n",
    "data = pd.DataFrame(data, columns=[\"text\", \"aspect\",\"polarity\", \"category\"])"
   ]
  },
  {
   "cell_type": "code",
   "execution_count": 6,
   "metadata": {},
   "outputs": [
    {
     "data": {
      "text/html": [
       "<div>\n",
       "<style scoped>\n",
       "    .dataframe tbody tr th:only-of-type {\n",
       "        vertical-align: middle;\n",
       "    }\n",
       "\n",
       "    .dataframe tbody tr th {\n",
       "        vertical-align: top;\n",
       "    }\n",
       "\n",
       "    .dataframe thead th {\n",
       "        text-align: right;\n",
       "    }\n",
       "</style>\n",
       "<table border=\"1\" class=\"dataframe\">\n",
       "  <thead>\n",
       "    <tr style=\"text-align: right;\">\n",
       "      <th></th>\n",
       "      <th>text</th>\n",
       "      <th>aspect</th>\n",
       "      <th>polarity</th>\n",
       "      <th>category</th>\n",
       "    </tr>\n",
       "  </thead>\n",
       "  <tbody>\n",
       "    <tr>\n",
       "      <th>0</th>\n",
       "      <td>But the staff was so horrible to us.</td>\n",
       "      <td>staff</td>\n",
       "      <td>negative</td>\n",
       "      <td>service</td>\n",
       "    </tr>\n",
       "    <tr>\n",
       "      <th>1</th>\n",
       "      <td>To be completely fair, the only redeeming fact...</td>\n",
       "      <td>food,</td>\n",
       "      <td>positive</td>\n",
       "      <td>food</td>\n",
       "    </tr>\n",
       "    <tr>\n",
       "      <th>2</th>\n",
       "      <td>The food is uniformly exceptional, with a very...</td>\n",
       "      <td>food</td>\n",
       "      <td>positive</td>\n",
       "      <td>food</td>\n",
       "    </tr>\n",
       "    <tr>\n",
       "      <th>3</th>\n",
       "      <td>The food is uniformly exceptional, with a very...</td>\n",
       "      <td>kitchen</td>\n",
       "      <td>positive</td>\n",
       "      <td>food</td>\n",
       "    </tr>\n",
       "    <tr>\n",
       "      <th>4</th>\n",
       "      <td>The food is uniformly exceptional, with a very...</td>\n",
       "      <td>menu</td>\n",
       "      <td>neutral</td>\n",
       "      <td>food</td>\n",
       "    </tr>\n",
       "  </tbody>\n",
       "</table>\n",
       "</div>"
      ],
      "text/plain": [
       "                                                text   aspect  polarity  \\\n",
       "0               But the staff was so horrible to us.    staff  negative   \n",
       "1  To be completely fair, the only redeeming fact...    food,  positive   \n",
       "2  The food is uniformly exceptional, with a very...     food  positive   \n",
       "3  The food is uniformly exceptional, with a very...  kitchen  positive   \n",
       "4  The food is uniformly exceptional, with a very...     menu   neutral   \n",
       "\n",
       "  category  \n",
       "0  service  \n",
       "1     food  \n",
       "2     food  \n",
       "3     food  \n",
       "4     food  "
      ]
     },
     "execution_count": 6,
     "metadata": {},
     "output_type": "execute_result"
    }
   ],
   "source": [
    "data.head()"
   ]
  },
  {
   "cell_type": "code",
   "execution_count": 9,
   "metadata": {},
   "outputs": [
    {
     "data": {
      "text/plain": [
       "polarity\n",
       "positive    58.405502\n",
       "negative    22.032603\n",
       "neutral     17.753439\n",
       "conflict     1.808456\n",
       "Name: proportion, dtype: float64"
      ]
     },
     "execution_count": 9,
     "metadata": {},
     "output_type": "execute_result"
    }
   ],
   "source": []
  },
  {
   "cell_type": "code",
   "execution_count": 40,
   "metadata": {},
   "outputs": [
    {
     "data": {
      "image/png": "[encoded data removed]",
      "text/plain": [
       "<Figure size 1000x500 with 1 Axes>"
      ]
     },
     "metadata": {},
     "output_type": "display_data"
    }
   ],
   "source": [
    "\n",
    "predictions_df = pd.DataFrame(data)\n",
    "\n",
    "# Overall sentiment distribution\n",
    "overall_sentiment = predictions_df['polarity'].value_counts(normalize=True) * 100\n",
    "\n",
    "# Category-wise sentiment distribution\n",
    "category_sentiment = predictions_df.groupby('category')['polarity'].value_counts(normalize=True).unstack().fillna(0) * 100\n",
    "\n",
    "# Plotting overall sentiment distribution\n",
    "plt.figure(figsize=(10, 5))\n",
    "overall_sentiment.plot(kind='bar', color=['green', 'red', 'blue', 'orange'])\n",
    "plt.title('Overall Sentiment Distribution')\n",
    "plt.xlabel('Sentiment')\n",
    "plt.ylabel('Percentage')\n",
    "plt.xticks(rotation=0)\n",
    "# plt.show()\n",
    "plt.savefig(\"overall.png\")\n"
   ]
  },
  {
   "cell_type": "code",
   "execution_count": 23,
   "metadata": {},
   "outputs": [
    {
     "data": {
      "text/plain": [
       "polarity\n",
       "positive    58.405502\n",
       "negative    22.032603\n",
       "neutral     17.753439\n",
       "conflict     1.808456\n",
       "Name: proportion, dtype: float64"
      ]
     },
     "execution_count": 23,
     "metadata": {},
     "output_type": "execute_result"
    }
   ],
   "source": [
    "overall_sentiment"
   ]
  },
  {
   "cell_type": "markdown",
   "metadata": {},
   "source": [
    "### Positive Sentiment (58.41%):\n",
    "\n",
    "The majority of the customer reviews express positive sentiments. This indicates that most customers are satisfied with their experience at the restaurant. Positive feedback could relate to various aspects such as food quality, service, ambiance, or value for money. We shall do detail analysis with category-wise polarity.\n",
    "\n",
    "Below is the list of most of aspect items seen in the positive reviews."
   ]
  },
  {
   "cell_type": "code",
   "execution_count": 19,
   "metadata": {},
   "outputs": [
    {
     "data": {
      "text/plain": [
       "[('food', 189),\n",
       " ('service', 86),\n",
       " ('place', 55),\n",
       " ('staff', 36),\n",
       " ('food,', 29),\n",
       " ('service.', 27),\n",
       " ('pizza', 24),\n",
       " ('menu', 22),\n",
       " ('sushi', 21),\n",
       " ('atmosphere', 21)]"
      ]
     },
     "execution_count": 19,
     "metadata": {},
     "output_type": "execute_result"
    }
   ],
   "source": [
    "positive_sent = data[data[\"polarity\"] == \"positive\"][\"aspect\"].value_counts()\n",
    "list(positive_sent.items())[:10]"
   ]
  },
  {
   "cell_type": "markdown",
   "metadata": {},
   "source": [
    "### Negative Sentiment (22.03%):\n",
    "\n",
    "A significant portion of reviews is negative. This suggests there are notable areas of concern that need attention. Common issues in restaurants include poor service, long wait times, unsatisfactory food quality, or high prices.\n",
    "\n",
    "Below is the list for most of the aspect items, having a negative polarity."
   ]
  },
  {
   "cell_type": "code",
   "execution_count": 20,
   "metadata": {},
   "outputs": [
    {
     "data": {
      "text/plain": [
       "[('food', 47),\n",
       " ('service', 44),\n",
       " ('place', 29),\n",
       " ('table', 15),\n",
       " ('wait', 15),\n",
       " ('portions', 12),\n",
       " ('prices', 11),\n",
       " ('waiter', 10),\n",
       " ('menu', 10),\n",
       " ('staff', 9)]"
      ]
     },
     "execution_count": 20,
     "metadata": {},
     "output_type": "execute_result"
    }
   ],
   "source": [
    "negative_sent = data[data[\"polarity\"] == \"negative\"][\"aspect\"].value_counts()\n",
    "list(negative_sent.items())[:10]"
   ]
  },
  {
   "cell_type": "markdown",
   "metadata": {},
   "source": [
    "\n",
    "### Neutral Sentiment (17.75%):\n",
    "\n",
    "A substantial number of reviews are neutral. These reviews likely contain mixed feelings or mention aspects that did not strongly impact the customer's overall experience."
   ]
  },
  {
   "cell_type": "code",
   "execution_count": 21,
   "metadata": {},
   "outputs": [
    {
     "data": {
      "text/plain": [
       "[('food', 42),\n",
       " ('dinner', 21),\n",
       " ('bar', 16),\n",
       " ('table', 13),\n",
       " ('lunch', 11),\n",
       " ('dinner.', 11),\n",
       " ('menu', 10),\n",
       " ('food.', 8),\n",
       " ('reservation', 8),\n",
       " ('drink', 7)]"
      ]
     },
     "execution_count": 21,
     "metadata": {},
     "output_type": "execute_result"
    }
   ],
   "source": [
    "neutral_sent = data[data[\"polarity\"] == \"neutral\"][\"aspect\"].value_counts()\n",
    "list(neutral_sent.items())[:10]"
   ]
  },
  {
   "cell_type": "markdown",
   "metadata": {},
   "source": [
    "## Category-Wise Sentiment"
   ]
  },
  {
   "cell_type": "code",
   "execution_count": 39,
   "metadata": {},
   "outputs": [
    {
     "data": {
      "image/png": "[encoded data removed]",
      "text/plain": [
       "<Figure size 1000x700 with 1 Axes>"
      ]
     },
     "metadata": {},
     "output_type": "display_data"
    }
   ],
   "source": [
    "# Plotting category-wise sentiment distribution\n",
    "category_sentiment.plot(kind='bar', stacked=True, figsize=(10, 7), color=['green', 'red', 'blue', 'orange'])\n",
    "plt.title('Category-wise Sentiment Distribution')\n",
    "plt.xlabel('Category')\n",
    "plt.ylabel('Percentage')\n",
    "plt.legend(title='Polarity', bbox_to_anchor=(1.05, 1), loc='upper left')\n",
    "# plt.show()\n",
    "plt.savefig(\"cat.png\")"
   ]
  },
  {
   "cell_type": "code",
   "execution_count": 25,
   "metadata": {},
   "outputs": [
    {
     "data": {
      "text/html": [
       "<div>\n",
       "<style scoped>\n",
       "    .dataframe tbody tr th:only-of-type {\n",
       "        vertical-align: middle;\n",
       "    }\n",
       "\n",
       "    .dataframe tbody tr th {\n",
       "        vertical-align: top;\n",
       "    }\n",
       "\n",
       "    .dataframe thead th {\n",
       "        text-align: right;\n",
       "    }\n",
       "</style>\n",
       "<table border=\"1\" class=\"dataframe\">\n",
       "  <thead>\n",
       "    <tr style=\"text-align: right;\">\n",
       "      <th>polarity</th>\n",
       "      <th>conflict</th>\n",
       "      <th>negative</th>\n",
       "      <th>neutral</th>\n",
       "      <th>positive</th>\n",
       "    </tr>\n",
       "    <tr>\n",
       "      <th>category</th>\n",
       "      <th></th>\n",
       "      <th></th>\n",
       "      <th></th>\n",
       "      <th></th>\n",
       "    </tr>\n",
       "  </thead>\n",
       "  <tbody>\n",
       "    <tr>\n",
       "      <th>ambience</th>\n",
       "      <td>2.102804</td>\n",
       "      <td>21.028037</td>\n",
       "      <td>7.242991</td>\n",
       "      <td>69.626168</td>\n",
       "    </tr>\n",
       "    <tr>\n",
       "      <th>anecdotes/miscellaneous</th>\n",
       "      <td>1.418440</td>\n",
       "      <td>20.803783</td>\n",
       "      <td>40.661939</td>\n",
       "      <td>37.115839</td>\n",
       "    </tr>\n",
       "    <tr>\n",
       "      <th>food</th>\n",
       "      <td>1.508845</td>\n",
       "      <td>17.741935</td>\n",
       "      <td>14.568158</td>\n",
       "      <td>66.181061</td>\n",
       "    </tr>\n",
       "    <tr>\n",
       "      <th>price</th>\n",
       "      <td>1.729107</td>\n",
       "      <td>22.478386</td>\n",
       "      <td>16.138329</td>\n",
       "      <td>59.654179</td>\n",
       "    </tr>\n",
       "    <tr>\n",
       "      <th>service</th>\n",
       "      <td>2.605459</td>\n",
       "      <td>33.250620</td>\n",
       "      <td>19.602978</td>\n",
       "      <td>44.540943</td>\n",
       "    </tr>\n",
       "  </tbody>\n",
       "</table>\n",
       "</div>"
      ],
      "text/plain": [
       "polarity                 conflict   negative    neutral   positive\n",
       "category                                                          \n",
       "ambience                 2.102804  21.028037   7.242991  69.626168\n",
       "anecdotes/miscellaneous  1.418440  20.803783  40.661939  37.115839\n",
       "food                     1.508845  17.741935  14.568158  66.181061\n",
       "price                    1.729107  22.478386  16.138329  59.654179\n",
       "service                  2.605459  33.250620  19.602978  44.540943"
      ]
     },
     "execution_count": 25,
     "metadata": {},
     "output_type": "execute_result"
    }
   ],
   "source": [
    "category_sentiment"
   ]
  },
  {
   "cell_type": "markdown",
   "metadata": {},
   "source": [
    "### 1. Ambience:\n",
    "- Most of the reviews (69%) are positive, indicating customers enjoy the restaurant's atmosphere.\n",
    "- A significant portion (21%) of reviews are negative, suggesting there are some issues with the restaurant's environment that need addressing. We can see the top 10 negative aspects of ambience."
   ]
  },
  {
   "cell_type": "code",
   "execution_count": 30,
   "metadata": {},
   "outputs": [
    {
     "data": {
      "text/plain": [
       "[('place', 19),\n",
       " ('atmosphere', 6),\n",
       " ('tables', 5),\n",
       " ('music', 4),\n",
       " ('seating', 3),\n",
       " ('space', 2),\n",
       " ('room', 2),\n",
       " ('spot', 2),\n",
       " ('tanks', 2),\n",
       " ('food', 2)]"
      ]
     },
     "execution_count": 30,
     "metadata": {},
     "output_type": "execute_result"
    }
   ],
   "source": [
    "df = data[((data[\"category\"] == \"ambience\" ) & (data[\"polarity\"] == \"negative\"))][\"aspect\"].value_counts()\n",
    "list(df.items())[:10]"
   ]
  },
  {
   "cell_type": "markdown",
   "metadata": {},
   "source": [
    "We observe that, some cusomters are not satistfied with the place, tables, seating"
   ]
  },
  {
   "cell_type": "markdown",
   "metadata": {},
   "source": [
    "### 2. Food\n",
    "- The majority of food-related reviews are positive (66%), indicating that customers are generally satisfied with the food quality.\n",
    "- Some negative(17%) feedback exists, pointing to areas where the food could be improved. We could observe that some customers are not satisfied with the portions.\n",
    "- A significant portion of neutral(14%) reviews, suggesting that while the food is satisfactory, it may not be outstanding. We could observe that some customers are not satisfied with the menu or food options."
   ]
  },
  {
   "cell_type": "code",
   "execution_count": 31,
   "metadata": {},
   "outputs": [
    {
     "data": {
      "text/plain": [
       "[('food', 32),\n",
       " ('portions', 11),\n",
       " ('menu', 10),\n",
       " ('cheese', 6),\n",
       " ('rice', 6),\n",
       " ('sushi', 5),\n",
       " ('sauce', 4),\n",
       " ('menu,', 4),\n",
       " ('food.', 4),\n",
       " ('service', 4)]"
      ]
     },
     "execution_count": 31,
     "metadata": {},
     "output_type": "execute_result"
    }
   ],
   "source": [
    "df = data[((data[\"category\"] == \"food\" ) & (data[\"polarity\"] == \"negative\"))][\"aspect\"].value_counts()\n",
    "list(df.items())[:10]"
   ]
  },
  {
   "cell_type": "code",
   "execution_count": 54,
   "metadata": {},
   "outputs": [
    {
     "data": {
      "text/plain": [
       "[('The rice was poor quality and was cooked so badly it was hard.', 1),\n",
       " ('The fish was not fresh and the rice tasted old and stale.', 1),\n",
       " ('The red curry is weak and tasteless, the pad thai is stuck together and lumpy, the rice is often overcooked, and the seafood is pretty sketchy.',\n",
       "  1),\n",
       " ('Stay away from the two specialty rolls on the menu, though- too much avocado and rice will fill you up right quick.',\n",
       "  1),\n",
       " ('They had scrapped the bottom of the vessel in which they make the rice -RESULT - WE HAD LARGE CHUNKS OF BURNT RICE IN OUR SERVING BOWL.',\n",
       "  1),\n",
       " ('Furthermore, the rice had no seasoning, so the sushi was bland and disgusting.',\n",
       "  1)]"
      ]
     },
     "execution_count": 54,
     "metadata": {},
     "output_type": "execute_result"
    }
   ],
   "source": [
    "df = data[((data[\"category\"] == \"food\" ) & (data[\"polarity\"] == \"negative\") & (data[\"aspect\"] == \"rice\"))][\"text\"].value_counts()\n",
    "list(df.items())[:10]"
   ]
  },
  {
   "cell_type": "markdown",
   "metadata": {},
   "source": [
    "We can observe the customers who gave negative feedback are not happy with the portions."
   ]
  },
  {
   "cell_type": "code",
   "execution_count": 32,
   "metadata": {},
   "outputs": [
    {
     "data": {
      "text/plain": [
       "[('food', 27),\n",
       " ('menu', 9),\n",
       " ('menu,', 4),\n",
       " ('food.', 4),\n",
       " ('dish', 4),\n",
       " ('Food', 4),\n",
       " ('dinner', 4),\n",
       " ('lunch', 3),\n",
       " ('bar', 3),\n",
       " ('dishes', 3)]"
      ]
     },
     "execution_count": 32,
     "metadata": {},
     "output_type": "execute_result"
    }
   ],
   "source": [
    "df = data[((data[\"category\"] == \"food\" ) & (data[\"polarity\"] == \"neutral\"))][\"aspect\"].value_counts()\n",
    "list(df.items())[:10]"
   ]
  },
  {
   "cell_type": "markdown",
   "metadata": {},
   "source": [
    "### 3. Price\n",
    "- Most reviews (59%) regarding price are positive, indicating customers feel the pricing is fair or good value.\n",
    "- A significant portion of negative (16%) feedback suggests some customers find the prices too high or not worth it.\n",
    "- (14%) A fair amount of neutral sentiment indicates mixed feelings about the pricing."
   ]
  },
  {
   "cell_type": "code",
   "execution_count": 33,
   "metadata": {},
   "outputs": [
    {
     "data": {
      "text/plain": [
       "[('prices', 10),\n",
       " ('price', 5),\n",
       " ('bill', 3),\n",
       " ('food', 3),\n",
       " ('prices.', 3),\n",
       " ('sandwiches', 2),\n",
       " ('price.', 2),\n",
       " ('roll', 2),\n",
       " ('Prices', 2),\n",
       " ('bills', 2)]"
      ]
     },
     "execution_count": 33,
     "metadata": {},
     "output_type": "execute_result"
    }
   ],
   "source": [
    "df = data[((data[\"category\"] == \"price\" ) & (data[\"polarity\"] == \"negative\"))][\"aspect\"].value_counts()\n",
    "list(df.items())[:10]"
   ]
  },
  {
   "cell_type": "code",
   "execution_count": 34,
   "metadata": {},
   "outputs": [
    {
     "data": {
      "text/plain": [
       "[('bill', 3),\n",
       " ('prices', 3),\n",
       " ('dinner', 2),\n",
       " ('drinks.', 2),\n",
       " ('food', 2),\n",
       " ('pickels and slaw,', 1),\n",
       " ('cokes', 1),\n",
       " ('prices.', 1),\n",
       " ('chips', 1),\n",
       " ('side.', 1)]"
      ]
     },
     "execution_count": 34,
     "metadata": {},
     "output_type": "execute_result"
    }
   ],
   "source": [
    "df = data[((data[\"category\"] == \"price\" ) & (data[\"polarity\"] == \"neutral\"))][\"aspect\"].value_counts()\n",
    "list(df.items())[:10]"
   ]
  },
  {
   "cell_type": "markdown",
   "metadata": {},
   "source": [
    "### 4. Service\n",
    "- Less than half of the service-related reviews are positive, indicating some dissatisfaction with the service..\n",
    "- A high percentage of negative (33%) feedback suggests significant issues with the service that need urgent attention..\n",
    "- A substantial amount (19%) of neutral sentiment indicates mixed or indifferent experiences with the service."
   ]
  },
  {
   "cell_type": "code",
   "execution_count": 56,
   "metadata": {},
   "outputs": [
    {
     "data": {
      "text/plain": [
       "[('service', 36),\n",
       " ('table', 11),\n",
       " ('staff', 9),\n",
       " ('waiter', 9),\n",
       " ('service,', 8),\n",
       " ('waitress', 8),\n",
       " ('wait', 7),\n",
       " ('food', 7),\n",
       " ('manager', 6),\n",
       " ('Service', 5)]"
      ]
     },
     "execution_count": 56,
     "metadata": {},
     "output_type": "execute_result"
    }
   ],
   "source": [
    "df = data[((data[\"category\"] == \"service\" ) & (data[\"polarity\"] == \"negative\"))][\"aspect\"].value_counts()\n",
    "list(df.items())[:10]"
   ]
  },
  {
   "cell_type": "code",
   "execution_count": 59,
   "metadata": {},
   "outputs": [
    {
     "data": {
      "text/plain": [
       "[('Service could be improved but overall this is a place that understands the importance of little things (the heavy, black, antique-seeming teapot, for one) in the restaurant experience.',\n",
       "  1),\n",
       " ('Service is not what one would expect from a joint in this price category.',\n",
       "  1),\n",
       " ('Service was slow had to wait to order and get food although not crowded.',\n",
       "  1),\n",
       " ('Service was also horrible and the ambience is not that great.', 1),\n",
       " ('Service was slow, but the people were friendly.', 1)]"
      ]
     },
     "execution_count": 59,
     "metadata": {},
     "output_type": "execute_result"
    }
   ],
   "source": [
    "df = data[((data[\"category\"] == \"service\" ) & (data[\"polarity\"] == \"negative\")& (data[\"aspect\"] == \"Service\"))][\"text\"].value_counts()\n",
    "list(df.items())[:20]"
   ]
  },
  {
   "cell_type": "code",
   "execution_count": 37,
   "metadata": {},
   "outputs": [
    {
     "data": {
      "text/plain": [
       "[('table', 9),\n",
       " ('service', 7),\n",
       " ('food', 6),\n",
       " ('bar', 5),\n",
       " ('reservation', 5),\n",
       " ('dessert', 3),\n",
       " ('check', 3),\n",
       " ('drink', 3),\n",
       " ('water', 3),\n",
       " ('service.', 3)]"
      ]
     },
     "execution_count": 37,
     "metadata": {},
     "output_type": "execute_result"
    }
   ],
   "source": [
    "df = data[((data[\"category\"] == \"service\" ) & (data[\"polarity\"] == \"neutral\"))][\"aspect\"].value_counts()\n",
    "list(df.items())[:10]"
   ]
  },
  {
   "cell_type": "code",
   "execution_count": null,
   "metadata": {},
   "outputs": [],
   "source": []
  },
  {
   "cell_type": "code",
   "execution_count": null,
   "metadata": {},
   "outputs": [],
   "source": []
  },
  {
   "cell_type": "code",
   "execution_count": null,
   "metadata": {},
   "outputs": [],
   "source": []
  },
  {
   "cell_type": "code",
   "execution_count": 8,
   "metadata": {},
   "outputs": [
    {
     "data": {
      "image/png": "[encoded data removed]",
      "text/plain": [
       "<Figure size 1000x700 with 2 Axes>"
      ]
     },
     "metadata": {},
     "output_type": "display_data"
    }
   ],
   "source": [
    "import seaborn as sns\n",
    "\n",
    "# Creating a pivot table for heatmap\n",
    "category_sentiment_pivot = predictions_df.pivot_table(index='category', columns='polarity', aggfunc='size', fill_value=0)\n",
    "\n",
    "plt.figure(figsize=(10, 7))\n",
    "sns.heatmap(category_sentiment_pivot, annot=True, fmt=\"d\", cmap=\"YlGnBu\")\n",
    "plt.title('Heatmap of Aspect Categories and Sentiments')\n",
    "plt.xlabel('Sentiment')\n",
    "plt.ylabel('Aspect Category')\n",
    "plt.show()\n"
   ]
  },
  {
   "cell_type": "code",
   "execution_count": null,
   "metadata": {},
   "outputs": [],
   "source": []
  }
 ],
 "metadata": {
  "kernelspec": {
   "display_name": "ml",
   "language": "python",
   "name": "python3"
  },
  "language_info": {
   "codemirror_mode": {
    "name": "ipython",
    "version": 3
   },
   "file_extension": ".py",
   "mimetype": "text/x-python",
   "name": "python",
   "nbconvert_exporter": "python",
   "pygments_lexer": "ipython3",
   "version": "3.11.6"
  }
 },
 "nbformat": 4,
 "nbformat_minor": 2
}
